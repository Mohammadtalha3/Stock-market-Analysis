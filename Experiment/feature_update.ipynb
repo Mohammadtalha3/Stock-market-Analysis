{
 "cells": [
  {
   "cell_type": "code",
   "execution_count": 43,
   "metadata": {},
   "outputs": [],
   "source": [
    "import pandas as pd\n",
    "import numpy as np \n",
    "import os , sys\n",
    "sys.path.append(os.path.abspath(os.path.join(os.getcwd(), '..')))\n",
    "from database.db_config import Connection"
   ]
  },
  {
   "cell_type": "code",
   "execution_count": 44,
   "metadata": {},
   "outputs": [
    {
     "name": "stdout",
     "output_type": "stream",
     "text": [
      "✅ Connected to the database\n"
     ]
    }
   ],
   "source": [
    "query = \"\"\"\n",
    "\n",
    "WITH cte As (\n",
    "SELECT \n",
    "    stock_symbol, timestamp, close,\n",
    "    AVG(close) OVER(PARTITION BY stock_symbol ORDER BY timestamp ROWS BETWEEN 4 PRECEDING AND CURRENT ROW) AS ma_5,\n",
    "    AVG(close) OVER (PARTITION BY stock_symbol ORDER BY  timestamp ROWS BETWEEN 9 PRECEDING AND CURRENT ROW) AS  ma_10,\n",
    "    AVG(close)  OVER (PARTITION BY  stock_symbol ORDER BY  timestamp ROWS BETWEEN 49 PRECEDING AND CURRENT ROW ) AS ma_50\n",
    "\n",
    "FROM stock_prices_daily\n",
    ")\n",
    "\n",
    "UPDATE  stock_prices_daily spd\n",
    "\n",
    "SET ma_5= cte.ma_5, ma_10= cte.ma_10, ma_50= cte.ma_50\n",
    "\n",
    "From cte\n",
    "\n",
    "WHERE spd.stock_symbol = cte.stock_symbol  AND spd.timestamp = cte.timestamp;\n",
    "\n",
    "\"\"\"\n",
    "\n",
    "db= Connection()\n",
    "db.connect()\n",
    "\n",
    "\n",
    "db.execute(query=query)\n",
    "\n",
    "\n",
    "\n",
    "\n",
    "\n"
   ]
  },
  {
   "cell_type": "code",
   "execution_count": 45,
   "metadata": {},
   "outputs": [
    {
     "name": "stdout",
     "output_type": "stream",
     "text": [
      "✅ Connected to the database\n",
      "None\n"
     ]
    }
   ],
   "source": [
    "return_query= \"\"\"\n",
    "WITH prev_day AS (\n",
    "SELECT \n",
    "    stock_symbol,timestamp, close,\n",
    "    LAG(close) OVER( PARTITION BY stock_symbol ORDER BY timestamp) AS prev_close\n",
    "\n",
    "FROM stock_prices_daily \n",
    "\n",
    ")\n",
    "\n",
    "UPDATE stock_prices_daily  spd\n",
    "\n",
    "SET daily_return = (prev_day.close - prev_day.prev_close)/ prev_day.prev_close\n",
    "\n",
    "FROM prev_day \n",
    "\n",
    "WHERE spd.stock_symbol = prev_day.stock_symbol AND  spd.timestamp = prev_day.timestamp;\n",
    "\n",
    "\"\"\"\n",
    "\n",
    "db= Connection()\n",
    "db.connect()\n",
    "\n",
    "\n",
    "ds=db.execute(return_query)\n",
    "\n",
    "\n",
    "print(ds)\n",
    "\n",
    "\n",
    "\n"
   ]
  },
  {
   "cell_type": "code",
   "execution_count": 38,
   "metadata": {},
   "outputs": [],
   "source": [
    "test_query_2 = \"\"\"   \n",
    "WITH intraday_aggregated AS (\n",
    "    SELECT \n",
    "        stock_symbol,\n",
    "        DATE(timestamp) AS date,  -- Extracts only the date (removing time)\n",
    "        AVG(close) AS avg_closing_intraday,\n",
    "        STDDEV(close) AS intraday_volatility\n",
    "    FROM stock_prices_intraday\n",
    "   -- WHERE DATE(timestamp) = '2025-01-31'  -- ✅ Only process existing intraday data\n",
    "    GROUP BY stock_symbol, DATE(timestamp)\n",
    "    \n",
    ")\n",
    "\n",
    "UPDATE stock_prices_daily spd\n",
    "SET \n",
    "    avg_closing_intraday = ia.avg_closing_intraday,\n",
    "    intraday_volatility = ia.intraday_volatility\n",
    "FROM intraday_aggregated ia\n",
    "WHERE spd.stock_symbol = ia.stock_symbol \n",
    "AND spd.timestamp::date = ia.date\n",
    "RETURNING spd.*;\n",
    "\n",
    "\n",
    "\n",
    "\n",
    "\"\"\""
   ]
  },
  {
   "cell_type": "code",
   "execution_count": 33,
   "metadata": {},
   "outputs": [],
   "source": [
    "join_quer= \"\"\"   \n",
    "SELECT spd.timestamp::date, ia.date, ia.avg_closing_intraday, ia.intraday_volatility\n",
    "FROM stock_prices_daily spd\n",
    "JOIN (\n",
    "    SELECT stock_symbol, DATE(timestamp) AS date, AVG(close) AS avg_closing_intraday, STDDEV(close) AS intraday_volatility\n",
    "    FROM stock_prices_intraday\n",
    "    \n",
    "    GROUP BY stock_symbol, DATE(timestamp)\n",
    ") ia \n",
    "ON spd.stock_symbol = ia.stock_symbol \n",
    "AND spd.timestamp::date = ia.date;\n",
    "\n",
    "\n",
    "\n",
    "\"\"\""
   ]
  },
  {
   "cell_type": "code",
   "execution_count": 41,
   "metadata": {},
   "outputs": [
    {
     "name": "stdout",
     "output_type": "stream",
     "text": [
      "✅ Connected to the database\n"
     ]
    }
   ],
   "source": [
    "intrday_query= \"\"\" \n",
    "WITH intraday_quer AS (\n",
    "    SELECT \n",
    "        stock_symbol,\n",
    "        DATE(timestamp) AS date,\n",
    "        AVG(close) AS avg_closing_intraday,\n",
    "        STDDEV(close) AS intraday_volatility\n",
    "\n",
    "    FROM  stock_prices_intraday\n",
    "    GROUP BY  stock_symbol ,DATE(timestamp)\n",
    ")\n",
    "\n",
    "UPDATE stock_prices_daily spd\n",
    "\n",
    "SET \n",
    "    avg_closing_intraday= intraday_quer.avg_closing_intraday, \n",
    "    intraday_volatility= intraday_quer.intraday_volatility\n",
    "\n",
    "FROM intraday_quer\n",
    "\n",
    "WHERE \n",
    "    spd.stock_symbol = intraday_quer.stock_symbol \n",
    "    AND spd.timestamp::date= intraday_quer.date;\n",
    "\n",
    "\"\"\"\n",
    "\n",
    "db.connect()\n",
    "db.execute(intrday_query)"
   ]
  },
  {
   "cell_type": "code",
   "execution_count": 46,
   "metadata": {},
   "outputs": [
    {
     "name": "stdout",
     "output_type": "stream",
     "text": [
      "✅ Connected to the database\n",
      "          0\n",
      "0  0.420688\n"
     ]
    }
   ],
   "source": [
    "quer= \"select intraday_volatility  from stock_prices_daily WHERE timestamp = '2025-01-31 00:00:00+05';\"\n",
    "\n",
    "db= Connection()\n",
    "db.connect()\n",
    "\n",
    "dtt=db.fetch(quer)\n",
    "\n",
    "\n",
    "df=pd.DataFrame(dtt)\n",
    "\n",
    "\n",
    "\n",
    "print(df)\n",
    "\n",
    "\n",
    "\n",
    "\n"
   ]
  },
  {
   "cell_type": "code",
   "execution_count": null,
   "metadata": {},
   "outputs": [],
   "source": [
    "quer= \"\"\"   \n",
    "WITH cte AS (\n",
    "    SELECT \n",
    "        stock_symbol,\n",
    "        DATE(timestamp) as date,\n",
    "        AVG(close) as average_closing_intraday\n",
    "    FROM stock_prices_intraday\n",
    "    GROUP BY stock_symbol,DATE(timestamp)\n",
    ")\n",
    "\n",
    "UPDATE stock_prices_daily spd\n",
    "\n",
    "SET avg_closing_intraday= ia.average_closing_intraday\n",
    "\n",
    "FROM cte ia\n",
    "\n",
    "WHERE spd.stoc_symbol= ia.stock_symbol\n",
    "\n",
    "\n",
    "\n",
    "\"\"\""
   ]
  },
  {
   "cell_type": "code",
   "execution_count": 42,
   "metadata": {},
   "outputs": [
    {
     "name": "stdout",
     "output_type": "stream",
     "text": [
      "✅ Connected to the database\n",
      "     0                         1           2         3\n",
      "0  IBM 2025-01-31 00:00:00+05:00  255.541487  0.420688\n",
      "1  IBM 2025-01-30 00:00:00+05:00         NaN       NaN\n",
      "2  IBM 2025-01-29 00:00:00+05:00         NaN       NaN\n",
      "3  IBM 2025-01-28 00:00:00+05:00         NaN       NaN\n",
      "4  IBM 2025-01-27 00:00:00+05:00         NaN       NaN\n",
      "5  IBM 2025-01-24 00:00:00+05:00         NaN       NaN\n",
      "6  IBM 2025-01-23 00:00:00+05:00         NaN       NaN\n",
      "7  IBM 2025-01-22 00:00:00+05:00         NaN       NaN\n",
      "8  IBM 2025-01-21 00:00:00+05:00         NaN       NaN\n",
      "9  IBM 2025-01-17 00:00:00+05:00         NaN       NaN\n"
     ]
    }
   ],
   "source": [
    "te_quer=\"\"\"-- Check latest stock data with moving averages\n",
    "SELECT * FROM stock_prices_daily ORDER BY timestamp DESC LIMIT 10;\n",
    "\n",
    "-- Verify intraday volatility and average closing values\n",
    "SELECT stock_symbol, timestamp, avg_closing_intraday, intraday_volatility \n",
    "FROM stock_prices_daily \n",
    "ORDER BY timestamp DESC LIMIT 10;\"\"\"\n",
    "\n",
    "db=Connection()\n",
    "\n",
    "db.connect()\n",
    "dt=db.fetch(te_quer)\n",
    "\n",
    "df=pd.DataFrame(dt)\n",
    "\n",
    "print(df )\n",
    "\n",
    "\n"
   ]
  },
  {
   "cell_type": "code",
   "execution_count": null,
   "metadata": {},
   "outputs": [
    {
     "name": "stdout",
     "output_type": "stream",
     "text": [
      "✅ Connected to the database\n",
      "        0                          1       2       3        4       5\n",
      "0     IBM  1999-11-01 00:00:00+05:00   96.75   98.50   98.810   96.37\n",
      "1     IBM  1999-11-02 00:00:00+05:00   94.81   96.75   96.810   93.69\n",
      "2     IBM  1999-11-03 00:00:00+05:00   94.37   95.87   95.940   93.50\n",
      "3     IBM  1999-11-04 00:00:00+05:00   91.56   94.44   94.440   90.00\n",
      "4     IBM  1999-11-05 00:00:00+05:00   90.25   92.75   92.940   90.19\n",
      "...   ...                        ...     ...     ...      ...     ...\n",
      "6347  IBM  2025-01-27 00:00:00+05:00  224.13  222.19  224.300  219.84\n",
      "6348  IBM  2025-01-28 00:00:00+05:00  225.66  224.32  225.770  221.77\n",
      "6349  IBM  2025-01-29 00:00:00+05:00  228.63  225.62  229.470  223.73\n",
      "6350  IBM  2025-01-30 00:00:00+05:00  258.27  250.00  261.800  247.01\n",
      "6351  IBM  2025-01-31 00:00:00+05:00  255.70  256.05  257.235  251.89\n",
      "\n",
      "[6352 rows x 6 columns]\n"
     ]
    }
   ],
   "source": [
    "import sys\n",
    "import os \n",
    "\n",
    "sys.path.append(os.path.abspath(os.path.join(os.getcwd(), '..')))\n",
    "from database.db_config import Connection\n",
    "\n",
    "db= Connection()\n",
    "\n",
    "db.connect()\n",
    "\n",
    "query= \"\"\"\n",
    "WITH prev_day AS(\n",
    "    SELECT \n",
    "        stock_symbol,\n",
    "        timestamp,\n",
    "        volume,\n",
    "        close,\n",
    "        open\n",
    "    \n",
    "\n",
    "    FROM stock_prices_daily \n",
    ")\n",
    "\n",
    "    SELECT\n",
    "        d.stock_symbol,\n",
    "        d.timestamp,\n",
    "        d.close,\n",
    "        d.open,\n",
    "        d.high,\n",
    "        d.low\n",
    "    \n",
    "    FROM stock_prices_daily d\n",
    "    \n",
    "    LEFT JOIN prev_day\n",
    "\n",
    "    ON d.stock_symbol= prev_day.stock_symbol AND d.timestamp = prev_day.timestamp + INTERVAL '1 day'\n",
    "    ORDER BY d.stock_symbol , d.timestamp\n",
    "\"\"\"\n",
    "\n",
    "data=db.fetch(query=query)\n",
    "import pandas as pd\n",
    "\n",
    "df=pd.DataFrame(data=data)\n",
    "\n",
    "print(df)\n",
    "\n"
   ]
  }
 ],
 "metadata": {
  "kernelspec": {
   "display_name": "venv",
   "language": "python",
   "name": "python3"
  },
  "language_info": {
   "codemirror_mode": {
    "name": "ipython",
    "version": 3
   },
   "file_extension": ".py",
   "mimetype": "text/x-python",
   "name": "python",
   "nbconvert_exporter": "python",
   "pygments_lexer": "ipython3",
   "version": "3.11.5"
  }
 },
 "nbformat": 4,
 "nbformat_minor": 2
}
