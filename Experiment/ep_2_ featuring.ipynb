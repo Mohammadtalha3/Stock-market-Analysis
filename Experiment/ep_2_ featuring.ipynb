{
 "cells": [
  {
   "cell_type": "code",
   "execution_count": 6,
   "metadata": {},
   "outputs": [],
   "source": [
    "import  pandas as pd\n",
    "import numpy as np \n",
    "import os \n",
    "import sys\n",
    "sys.path.append(os.path.abspath(os.path.join(os.getcwd(), '..')))\n",
    "from database.db_config import Connection"
   ]
  },
  {
   "cell_type": "code",
   "execution_count": 24,
   "metadata": {},
   "outputs": [
    {
     "name": "stdout",
     "output_type": "stream",
     "text": [
      "✅ Connected to the database\n"
     ]
    }
   ],
   "source": [
    "db= Connection()\n",
    "db.connect()"
   ]
  },
  {
   "cell_type": "code",
   "execution_count": null,
   "metadata": {},
   "outputs": [],
   "source": [
    "LEFT JOIN(\n",
    "SELECT \n",
    "DATE(timestamp) as date,\n",
    "stock_symbol,\n",
    "AVG(close) as avg_closing_intraday,\n",
    "STDDEV(close) as intraday_volatility\n",
    "FROM stock_prices_intraday\n",
    "\n",
    "GROUP BY stock_symbol, DATE(timestamp)\n",
    ") i\n",
    "\n",
    "ON d.stock_symbol= i.stock_symbol AND d.timestamp ::DATE = i.date\n",
    "\n",
    "\n",
    "\n",
    " i.avg_closing_intraday, i.intraday_volatility,"
   ]
  },
  {
   "cell_type": "code",
   "execution_count": 70,
   "metadata": {},
   "outputs": [],
   "source": [
    "query = \"\"\"\n",
    "\n",
    "Select \n",
    "    d.stock_symbol, d.timestamp, d.open,d.high, d.low,d.close,d.volume,\n",
    "    \n",
    "\n",
    "\n",
    "    d.close- LAG(d.close) OVER(PARTITION BY d.stock_symbol ORDER BY d.timestamp)/\n",
    "    LAG(d.close) OVER(PARTITION BY d.stock_symbol ORDER BY d.timestamp) AS daily_return,\n",
    "\n",
    "    AVG(d.close) OVER(PARTITION BY d.stock_symbol ORDER BY d.timestamp ROWS BETWEEN 4 PRECEDING AND CURRENT ROW) AS ma_5,\n",
    "    AVG(d.close) OVER (PARTITION BY d.stock_symbol ORDER BY d.timestamp ROWS BETWEEN 9 PRECEDING AND CURRENT ROW) AS ma_10,\n",
    "    AVG(d.close) OVER (PARTITION BY d.stock_symbol ORDER BY d.timestamp ROWS BETWEEN 49 PRECEDING AND  CURRENT ROW) AS ma_50\n",
    "\n",
    "\n",
    "FROM  stock_prices_daily d\n",
    "\n",
    "\n",
    "\n",
    "\"\"\""
   ]
  },
  {
   "cell_type": "code",
   "execution_count": 72,
   "metadata": {},
   "outputs": [
    {
     "name": "stdout",
     "output_type": "stream",
     "text": [
      "✅ Connected to the database\n"
     ]
    }
   ],
   "source": [
    "# query= 'Select * from stock_prices_daily;'\n",
    "db.connect()\n",
    "\n",
    "data=db.fetch(query)\n",
    "\n",
    "df=pd.DataFrame(data)\n",
    "\n",
    "# print(df)\n",
    "\n",
    "# print(df )\n",
    "#','daily_return','avg_closing_intraday','intraday_volatility'\n",
    "df=pd.DataFrame(data, columns=['stock_symbol','timestamp','open','high','low','close','volume','ma_5','ma_10','ma_50','daily_return'])\n",
    "\n",
    "# df=pd.DataFrame(data, columns=['stock_symbol','timestamp','open','high','low','close','volume','ma_5','ma_10','ma_50', 'daily_return','avg_closing_intraday','intraday_volatility'])"
   ]
  }
 ],
 "metadata": {
  "kernelspec": {
   "display_name": "venv",
   "language": "python",
   "name": "python3"
  },
  "language_info": {
   "codemirror_mode": {
    "name": "ipython",
    "version": 3
   },
   "file_extension": ".py",
   "mimetype": "text/x-python",
   "name": "python",
   "nbconvert_exporter": "python",
   "pygments_lexer": "ipython3",
   "version": "3.11.5"
  }
 },
 "nbformat": 4,
 "nbformat_minor": 2
}
