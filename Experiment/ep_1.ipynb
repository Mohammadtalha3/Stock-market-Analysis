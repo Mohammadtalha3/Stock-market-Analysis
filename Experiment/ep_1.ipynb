{
 "cells": [
  {
   "cell_type": "code",
   "execution_count": 1,
   "metadata": {},
   "outputs": [],
   "source": [
    "import pandas as pd \n",
    "import numpy as np"
   ]
  },
  {
   "cell_type": "code",
   "execution_count": 6,
   "metadata": {},
   "outputs": [
    {
     "name": "stdout",
     "output_type": "stream",
     "text": [
      "Index(['Unnamed: 0', 'Meta Data', 'Time Series (5min)'], dtype='object')\n"
     ]
    }
   ],
   "source": [
    "data = pd.read_csv('D:\\stock_market\\stock_data.csv')\n",
    "\n",
    "print(data.columns)"
   ]
  },
  {
   "cell_type": "code",
   "execution_count": 8,
   "metadata": {},
   "outputs": [
    {
     "name": "stdout",
     "output_type": "stream",
     "text": [
      "0           1. Information\n",
      "1                2. Symbol\n",
      "2        3. Last Refreshed\n",
      "3              4. Interval\n",
      "4           5. Output Size\n",
      "              ...         \n",
      "101    2025-01-31 12:00:00\n",
      "102    2025-01-31 11:55:00\n",
      "103    2025-01-31 11:50:00\n",
      "104    2025-01-31 11:45:00\n",
      "105    2025-01-31 11:40:00\n",
      "Name: Unnamed: 0, Length: 106, dtype: object\n"
     ]
    }
   ],
   "source": [
    "print(data['Unnamed: 0'])"
   ]
  }
 ],
 "metadata": {
  "kernelspec": {
   "display_name": "venv",
   "language": "python",
   "name": "python3"
  },
  "language_info": {
   "codemirror_mode": {
    "name": "ipython",
    "version": 3
   },
   "file_extension": ".py",
   "mimetype": "text/x-python",
   "name": "python",
   "nbconvert_exporter": "python",
   "pygments_lexer": "ipython3",
   "version": "3.11.5"
  }
 },
 "nbformat": 4,
 "nbformat_minor": 2
}
