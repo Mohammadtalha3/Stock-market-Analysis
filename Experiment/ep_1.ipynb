{
 "cells": [
  {
   "cell_type": "code",
   "execution_count": 2,
   "metadata": {},
   "outputs": [],
   "source": [
    "import pandas as pd \n",
    "import numpy as np"
   ]
  },
  {
   "cell_type": "code",
   "execution_count": null,
   "metadata": {},
   "outputs": [],
   "source": []
  },
  {
   "cell_type": "code",
   "execution_count": 76,
   "metadata": {},
   "outputs": [
    {
     "name": "stdout",
     "output_type": "stream",
     "text": [
      "Index(['Unnamed: 0', 'Meta Data', 'Time Series (Daily)'], dtype='object')\n",
      "6352\n"
     ]
    }
   ],
   "source": [
    "data = pd.read_csv('D:\\Stock-market-Analysis\\daily_stock_data.csv')\n",
    "\n",
    "print(data.columns )\n",
    "timestamp_col=data['Unnamed: 0'][5:]\n",
    "\n",
    "print(len(timestamp_col))"
   ]
  },
  {
   "cell_type": "code",
   "execution_count": 78,
   "metadata": {},
   "outputs": [
    {
     "name": "stdout",
     "output_type": "stream",
     "text": [
      "0       Daily Prices (open, high, low, close) and Volumes\n",
      "1                                                     IBM\n",
      "2                                              2025-01-31\n",
      "3                                               Full size\n",
      "4                                              US/Eastern\n",
      "                              ...                        \n",
      "6352                                                  NaN\n",
      "6353                                                  NaN\n",
      "6354                                                  NaN\n",
      "6355                                                  NaN\n",
      "6356                                                  NaN\n",
      "Name: Meta Data, Length: 6357, dtype: object\n"
     ]
    }
   ],
   "source": [
    "print(data['Meta Data'] )"
   ]
  },
  {
   "cell_type": "code",
   "execution_count": 75,
   "metadata": {},
   "outputs": [
    {
     "name": "stdout",
     "output_type": "stream",
     "text": [
      "IBM\n"
     ]
    }
   ],
   "source": [
    "symbol=data['Meta Data'][1]\n",
    "\n",
    "print(symbol)\n"
   ]
  },
  {
   "cell_type": "code",
   "execution_count": 18,
   "metadata": {},
   "outputs": [
    {
     "name": "stdout",
     "output_type": "stream",
     "text": [
      "6352\n"
     ]
    }
   ],
   "source": [
    "daily_data=data['Time Series (Daily)'][5:]\n",
    "print(len(daily_data))"
   ]
  },
  {
   "cell_type": "code",
   "execution_count": 30,
   "metadata": {},
   "outputs": [
    {
     "name": "stdout",
     "output_type": "stream",
     "text": [
      "10      {'1. open': '225.2700', '2. high': '226.8104',...\n",
      "11      {'1. open': '223.9400', '2. high': '226.0400',...\n",
      "12      {'1. open': '221.9800', '2. high': '224.4000',...\n",
      "13      {'1. open': '224.9900', '2. high': '227.4500',...\n",
      "14      {'1. open': '225.9550', '2. high': '225.9550',...\n",
      "                              ...                        \n",
      "6352    {'1. open': '92.7500', '2. high': '92.9400', '...\n",
      "6353    {'1. open': '94.4400', '2. high': '94.4400', '...\n",
      "6354    {'1. open': '95.8700', '2. high': '95.9400', '...\n",
      "6355    {'1. open': '96.7500', '2. high': '96.8100', '...\n",
      "6356    {'1. open': '98.5000', '2. high': '98.8100', '...\n",
      "Name: Time Series (Daily), Length: 6347, dtype: object\n"
     ]
    }
   ],
   "source": [
    "print(combined_data['Time Series (Daily)'][5:])"
   ]
  },
  {
   "cell_type": "code",
   "execution_count": 73,
   "metadata": {},
   "outputs": [
    {
     "name": "stdout",
     "output_type": "stream",
     "text": [
      "{'1. open': '256.0500', '2. high': '257.2350', '3. low': '251.8900', '4. close': '255.7000', '5. volume': '7203519'}\n"
     ]
    }
   ],
   "source": [
    "combined_data=pd.concat([timestamp_col,daily_data],axis=1)\n",
    "\n",
    "# time_series_data= (combined_data['Time Series (Daily)'].apply(lambda x: x.get('2. high') if isinstance(x,dict) else None))\n",
    "\n",
    "dict_unpack=combined_data['Time Series (Daily)'].iloc[:]\n",
    "\n",
    "\n",
    "print(dict_unpack)"
   ]
  },
  {
   "cell_type": "code",
   "execution_count": 1,
   "metadata": {},
   "outputs": [],
   "source": [
    "import pandas as pd\n"
   ]
  },
  {
   "cell_type": "code",
   "execution_count": 2,
   "metadata": {},
   "outputs": [
    {
     "name": "stdout",
     "output_type": "stream",
     "text": [
      "Index(['stock_symbol', 'timestamp', 'open', 'high', 'low', 'close', 'volume',\n",
      "       'avg_intraday_price', 'max_intraday_high', 'min_intraday_low',\n",
      "       'total_intraday_volume', 'intraday_volatility', 'daily_return', 'ma_5',\n",
      "       'ma_10', 'ma_50', 'volume_change_ratio'],\n",
      "      dtype='object')\n"
     ]
    }
   ],
   "source": [
    "data=pd.read_csv('D:\\Stock-market-Analysis\\stockfeatures_data.csv')\n",
    "print(data.columns)"
   ]
  },
  {
   "cell_type": "code",
   "execution_count": 43,
   "metadata": {},
   "outputs": [
    {
     "name": "stdout",
     "output_type": "stream",
     "text": [
      "6352\n"
     ]
    }
   ],
   "source": [
    "print(len(data))"
   ]
  },
  {
   "cell_type": "code",
   "execution_count": 45,
   "metadata": {},
   "outputs": [
    {
     "name": "stdout",
     "output_type": "stream",
     "text": [
      "1\n"
     ]
    }
   ],
   "source": [
    "print((data['avg_intraday_price']>0).sum())"
   ]
  },
  {
   "cell_type": "code",
   "execution_count": 42,
   "metadata": {},
   "outputs": [
    {
     "data": {
      "text/plain": [
       "stock_symbol                0\n",
       "timestamp                   0\n",
       "open                        0\n",
       "high                        0\n",
       "low                         0\n",
       "close                       0\n",
       "volume                      0\n",
       "avg_intraday_price       6351\n",
       "max_intraday_high        6351\n",
       "min_intraday_low         6351\n",
       "total_intraday_volume    6351\n",
       "intraday_volatility      6351\n",
       "daily_return                1\n",
       "ma_5                        0\n",
       "ma_10                       0\n",
       "ma_50                       0\n",
       "volume_change_ratio      6140\n",
       "dtype: int64"
      ]
     },
     "execution_count": 42,
     "metadata": {},
     "output_type": "execute_result"
    }
   ],
   "source": [
    "data.isna().sum()"
   ]
  },
  {
   "cell_type": "code",
   "execution_count": 39,
   "metadata": {},
   "outputs": [
    {
     "name": "stdout",
     "output_type": "stream",
     "text": [
      "3247\n"
     ]
    }
   ],
   "source": []
  },
  {
   "cell_type": "code",
   "execution_count": 35,
   "metadata": {},
   "outputs": [
    {
     "data": {
      "text/plain": [
       "np.int64(6351)"
      ]
     },
     "execution_count": 35,
     "metadata": {},
     "output_type": "execute_result"
    }
   ],
   "source": [
    "data['avg_intraday_price'].isna().sum()\n"
   ]
  },
  {
   "cell_type": "code",
   "execution_count": 30,
   "metadata": {},
   "outputs": [
    {
     "data": {
      "text/plain": [
       "np.int64(6140)"
      ]
     },
     "execution_count": 30,
     "metadata": {},
     "output_type": "execute_result"
    }
   ],
   "source": [
    "data['volume_change_ratio'].isna().sum()"
   ]
  },
  {
   "cell_type": "code",
   "execution_count": 31,
   "metadata": {},
   "outputs": [
    {
     "data": {
      "text/plain": [
       "6352"
      ]
     },
     "execution_count": 31,
     "metadata": {},
     "output_type": "execute_result"
    }
   ],
   "source": [
    "len(data['volume_change_ratio'])"
   ]
  }
 ],
 "metadata": {
  "kernelspec": {
   "display_name": "venv",
   "language": "python",
   "name": "python3"
  },
  "language_info": {
   "codemirror_mode": {
    "name": "ipython",
    "version": 3
   },
   "file_extension": ".py",
   "mimetype": "text/x-python",
   "name": "python",
   "nbconvert_exporter": "python",
   "pygments_lexer": "ipython3",
   "version": "3.11.5"
  }
 },
 "nbformat": 4,
 "nbformat_minor": 2
}
